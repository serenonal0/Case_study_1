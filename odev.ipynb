{
 "cells": [
  {
   "cell_type": "markdown",
   "metadata": {},
   "source": [
    "# Case Study"
   ]
  },
  {
   "cell_type": "markdown",
   "metadata": {},
   "source": [
    "### Introduction\n",
    "\n",
    "A mobile shopping platform is one of the best practices of creating a new business model based on big data and CRM technologies. This platform knows customers' preferences, shopping habits, even the number of children they have, the town their parents live, the activities they do in leisure times etc. This enables the platform to offer a personalized experience with customized campaigns designed for identified micro and macro segments based on customers' lifestyle and preferences through their transactions, without asking any questions. <br/>\n",
    "\n",
    "Data science is the heart of this platform to enhance a rich and customized reach to its each customer. Mass amount of data is collected from online and offline sources about each customer and data science team works on utilizing this data in an insightful manner to be used in identifying shopping behaviors, motivations and needs of each customer on the path of acquisition, retention and growth models. <br/>\n",
    "\n",
    "\n",
    "We prepared this notebook to test the knowledge of our fellow candidates. Good luck to all of you !!"
   ]
  },
  {
   "cell_type": "markdown",
   "metadata": {},
   "source": [
    "|   cid |   month |   spending |   transaction |\n",
    "|------:|--------:|-----------:|--------------:|\n",
    "|     1 |       3 |      52.57 |            27 |\n",
    "|     1 |       4 |      76.98 |            24 |\n",
    "|     1 |       7 |      66.42 |            26 |\n",
    "|     1 |       8 |      54.54 |            26 |\n",
    "|     1 |       9 |     128.21 |            27 |"
   ]
  },
  {
   "cell_type": "markdown",
   "metadata": {},
   "source": [
    "This is a sample transaction data of our customers:\n",
    "\n",
    "- **cid**: Customer Id column represents the unique id assigned to each customer\n",
    "- **month**: Month column represents the month of the transactions\n",
    "- **spending**: Spending column represents the total paid amount within the month\n",
    "- **transaction**: Transaction column represents the total number of transactions within the month\n",
    "\n",
    "**Feel free to add as many cell you need while solving the question and add comments explaining your answer.**"
   ]
  },
  {
   "cell_type": "markdown",
   "metadata": {},
   "source": [
    "## Question 1"
   ]
  },
  {
   "cell_type": "markdown",
   "metadata": {},
   "source": [
    "#### Data importing & wrangling\n",
    "1. Import the necessary packages and functions.\n",
    "2. Read the csv data.\n",
    "3. Write some code to explore the dataset. (row numbers, data types, etc.)\n",
    "4. Assess data visually as well as programmatically using pandas for quality and tidiness issues. "
   ]
  },
  {
   "cell_type": "code",
   "execution_count": 1,
   "metadata": {},
   "outputs": [],
   "source": [
    "# 1.Import all packages needed\n",
    "import pandas as pd\n",
    "import numpy as np\n",
    "import matplotlib.pyplot as plt\n",
    "import statistics as st"
   ]
  },
  {
   "cell_type": "code",
   "execution_count": 2,
   "metadata": {},
   "outputs": [],
   "source": [
    "# 2.Gathering the data\n",
    "data = pd.read_csv(\"data.csv\")"
   ]
  },
  {
   "cell_type": "code",
   "execution_count": 3,
   "metadata": {},
   "outputs": [
    {
     "data": {
      "text/html": [
       "<div>\n",
       "<style scoped>\n",
       "    .dataframe tbody tr th:only-of-type {\n",
       "        vertical-align: middle;\n",
       "    }\n",
       "\n",
       "    .dataframe tbody tr th {\n",
       "        vertical-align: top;\n",
       "    }\n",
       "\n",
       "    .dataframe thead th {\n",
       "        text-align: right;\n",
       "    }\n",
       "</style>\n",
       "<table border=\"1\" class=\"dataframe\">\n",
       "  <thead>\n",
       "    <tr style=\"text-align: right;\">\n",
       "      <th></th>\n",
       "      <th>cid</th>\n",
       "      <th>month</th>\n",
       "      <th>spending</th>\n",
       "      <th>transaction</th>\n",
       "    </tr>\n",
       "  </thead>\n",
       "  <tbody>\n",
       "    <tr>\n",
       "      <th>0</th>\n",
       "      <td>1</td>\n",
       "      <td>3</td>\n",
       "      <td>52.57</td>\n",
       "      <td>27</td>\n",
       "    </tr>\n",
       "    <tr>\n",
       "      <th>1</th>\n",
       "      <td>1</td>\n",
       "      <td>4</td>\n",
       "      <td>76.98</td>\n",
       "      <td>24</td>\n",
       "    </tr>\n",
       "    <tr>\n",
       "      <th>2</th>\n",
       "      <td>1</td>\n",
       "      <td>7</td>\n",
       "      <td>66.42</td>\n",
       "      <td>26</td>\n",
       "    </tr>\n",
       "    <tr>\n",
       "      <th>3</th>\n",
       "      <td>1</td>\n",
       "      <td>8</td>\n",
       "      <td>54.54</td>\n",
       "      <td>26</td>\n",
       "    </tr>\n",
       "    <tr>\n",
       "      <th>4</th>\n",
       "      <td>1</td>\n",
       "      <td>9</td>\n",
       "      <td>128.21</td>\n",
       "      <td>27</td>\n",
       "    </tr>\n",
       "  </tbody>\n",
       "</table>\n",
       "</div>"
      ],
      "text/plain": [
       "   cid  month  spending  transaction\n",
       "0    1      3     52.57           27\n",
       "1    1      4     76.98           24\n",
       "2    1      7     66.42           26\n",
       "3    1      8     54.54           26\n",
       "4    1      9    128.21           27"
      ]
     },
     "execution_count": 3,
     "metadata": {},
     "output_type": "execute_result"
    }
   ],
   "source": [
    "# 3.Explore the data\n",
    "data.head()"
   ]
  },
  {
   "cell_type": "code",
   "execution_count": 4,
   "metadata": {},
   "outputs": [
    {
     "data": {
      "text/html": [
       "<div>\n",
       "<style scoped>\n",
       "    .dataframe tbody tr th:only-of-type {\n",
       "        vertical-align: middle;\n",
       "    }\n",
       "\n",
       "    .dataframe tbody tr th {\n",
       "        vertical-align: top;\n",
       "    }\n",
       "\n",
       "    .dataframe thead th {\n",
       "        text-align: right;\n",
       "    }\n",
       "</style>\n",
       "<table border=\"1\" class=\"dataframe\">\n",
       "  <thead>\n",
       "    <tr style=\"text-align: right;\">\n",
       "      <th></th>\n",
       "      <th>avg_spending</th>\n",
       "      <th>std_spending</th>\n",
       "      <th>tot_spending</th>\n",
       "      <th>tot_transaction</th>\n",
       "      <th>most_spending_month</th>\n",
       "      <th>most_transaction_month</th>\n",
       "    </tr>\n",
       "    <tr>\n",
       "      <th>cid</th>\n",
       "      <th></th>\n",
       "      <th></th>\n",
       "      <th></th>\n",
       "      <th></th>\n",
       "      <th></th>\n",
       "      <th></th>\n",
       "    </tr>\n",
       "  </thead>\n",
       "  <tbody>\n",
       "    <tr>\n",
       "      <th>1</th>\n",
       "      <td>102.39</td>\n",
       "      <td>86.39</td>\n",
       "      <td>716.73</td>\n",
       "      <td>185</td>\n",
       "      <td>11</td>\n",
       "      <td>11</td>\n",
       "    </tr>\n",
       "    <tr>\n",
       "      <th>2</th>\n",
       "      <td>71.38</td>\n",
       "      <td>48.39</td>\n",
       "      <td>571.05</td>\n",
       "      <td>266</td>\n",
       "      <td>1</td>\n",
       "      <td>12</td>\n",
       "    </tr>\n",
       "    <tr>\n",
       "      <th>3</th>\n",
       "      <td>86.92</td>\n",
       "      <td>50.47</td>\n",
       "      <td>521.50</td>\n",
       "      <td>168</td>\n",
       "      <td>9</td>\n",
       "      <td>9</td>\n",
       "    </tr>\n",
       "    <tr>\n",
       "      <th>4</th>\n",
       "      <td>86.39</td>\n",
       "      <td>54.47</td>\n",
       "      <td>345.55</td>\n",
       "      <td>101</td>\n",
       "      <td>12</td>\n",
       "      <td>12</td>\n",
       "    </tr>\n",
       "    <tr>\n",
       "      <th>5</th>\n",
       "      <td>104.54</td>\n",
       "      <td>89.48</td>\n",
       "      <td>627.22</td>\n",
       "      <td>169</td>\n",
       "      <td>10</td>\n",
       "      <td>6</td>\n",
       "    </tr>\n",
       "  </tbody>\n",
       "</table>\n",
       "</div>"
      ],
      "text/plain": [
       "     avg_spending  std_spending  tot_spending  tot_transaction  \\\n",
       "cid                                                              \n",
       "1          102.39         86.39        716.73              185   \n",
       "2           71.38         48.39        571.05              266   \n",
       "3           86.92         50.47        521.50              168   \n",
       "4           86.39         54.47        345.55              101   \n",
       "5          104.54         89.48        627.22              169   \n",
       "\n",
       "     most_spending_month  most_transaction_month  \n",
       "cid                                               \n",
       "1                     11                      11  \n",
       "2                      1                      12  \n",
       "3                      9                       9  \n",
       "4                     12                      12  \n",
       "5                     10                       6  "
      ]
     },
     "execution_count": 4,
     "metadata": {},
     "output_type": "execute_result"
    }
   ],
   "source": [
    "# 4.Check quality\n",
    "#average spending for each customer\n",
    "avg_spending = data.groupby(\"cid\")[\"spending\"].mean()\n",
    "avg_spending = round(avg_spending, 2)\n",
    "#standart deviation of spending for each customer\n",
    "std_spending = data.groupby(\"cid\")[\"spending\"].std()\n",
    "std_spending = round(std_spending, 2)\n",
    "#total spending for each customer\n",
    "tot_spending = data.groupby(\"cid\")[\"spending\"].sum()\n",
    "#total number of transaction for each customer\n",
    "tot_transaction = data.groupby(\"cid\")[\"transaction\"].sum()\n",
    "#the month that each customer has the most spending\n",
    "most_spending = data.groupby([\"cid\"])[\"spending\"].max()\n",
    "most_spending_month = pd.merge(data, most_spending, on=[\"cid\", \"spending\"], how=\"inner\")[[\"cid\", \"month\"]]\n",
    "#the month that each customer has the most transaction\n",
    "most_transaction = data.groupby([\"cid\"])[\"transaction\"].max()\n",
    "most_transaction_month = pd.merge(data, most_transaction, on=[\"cid\", \"transaction\"], how=\"inner\")[[\"cid\", \"month\"]]\n",
    "\n",
    "last_df = pd.concat([avg_spending, std_spending, tot_spending, tot_transaction, most_spending_month.set_index(\"cid\"), most_transaction_month.set_index(\"cid\")], axis=1)\n",
    "last_df.columns = ['avg_spending', 'std_spending', \"tot_spending\", \"tot_transaction\",\"most_spending_month\",\"most_transaction_month\"]\n",
    "last_df.head()"
   ]
  },
  {
   "cell_type": "markdown",
   "metadata": {},
   "source": [
    "#### Summarizing the data\n",
    "\n",
    "We would like you to calculate these values for each customers:\n",
    "1. **avg_spending:** average spending for each customer\n",
    "2. **std_spending:** standart deviation of spending for each customer\n",
    "3. **tot_spending:** total spending for each customer\n",
    "4. **tot_transaction:** total number of transaction for each customer\n",
    "5. **most_spending_month:** the month that each customer has the most spending    \n",
    "6. **most_transaction_month:** the month that each customer has the most transaction\n",
    "7. Print the results"
   ]
  },
  {
   "cell_type": "markdown",
   "metadata": {},
   "source": [
    "The output seen as:\n",
    "\n",
    "|   cid |   avg_spending |   std_spending |   tot_spending |   tot_transaction |   most_spending_month |   most_transaction_month |\n",
    "|------:|---------------:|---------------:|---------------:|------------------:|----------------------:|-------------------------:|\n",
    "|     1 |       102.39   |        86.3929 |         716.73 |               185 |                    11 |                       11 |\n",
    "|     2 |        71.3813 |        48.3853 |         571.05 |               266 |                     1 |                       12 |\n",
    "|     3 |        86.9167 |        50.4738 |         521.5  |               168 |                     9 |                        9 |\n",
    "|     4 |        86.3875 |        54.4722 |         345.55 |               101 |                    12 |                       12 |\n",
    "|     5 |       104.537  |        89.4826 |         627.22 |               169 |                    10 |                        6 |"
   ]
  },
  {
   "cell_type": "markdown",
   "metadata": {},
   "source": [
    "#### Data Understanding\n",
    "1. Plot the histogram for average spending of customer\n",
    "2. Calculate mean, mode, median of the distribution (*you should round the values before calculating the mode*)\n",
    "3. Explain the type of the distributon that describes the pattern in the histogram; justify your answer with mean, mode median (*you can answer this question in the comment*)"
   ]
  },
  {
   "cell_type": "code",
   "execution_count": 5,
   "metadata": {},
   "outputs": [
    {
     "data": {
      "image/png": "[encoded data removed]",
      "text/plain": [
       "<Figure size 640x480 with 1 Axes>"
      ]
     },
     "metadata": {},
     "output_type": "display_data"
    }
   ],
   "source": [
    "#1. Plot the histogram for average spending of customer\n",
    "plt.hist(avg_spending, bins=50)\n",
    "plt.show()"
   ]
  },
  {
   "cell_type": "code",
   "execution_count": 13,
   "metadata": {},
   "outputs": [
    {
     "name": "stdout",
     "output_type": "stream",
     "text": [
      "Mean:  106.29\n",
      "Mode:  86\n",
      "Median:  98.0\n"
     ]
    }
   ],
   "source": [
    "#2. Calculate mean, mode, median of the distribution (you should round the values before calculating the mode)\n",
    "mean = st.mean(avg_spending)\n",
    "mean = round(mean, 2)\n",
    "print(\"Mean: \", mean)\n",
    "avg_spending_mode = [round(i) for i in avg_spending]\n",
    "mode = st.mode(avg_spending_mode)\n",
    "print(\"Mode: \", mode)\n",
    "median = st.median(avg_spending)\n",
    "print(\"Median: \", median)"
   ]
  },
  {
   "cell_type": "code",
   "execution_count": null,
   "metadata": {},
   "outputs": [],
   "source": [
    "#3. Explain the type of the distributon that describes the pattern in the histogram; justify your answer with mean, mode median (you can answer this question in the comment)\n",
    "\"\"\"\n",
    "    Since the mean > median > mode equality is achieved, a right skewed distribution is observed.\n",
    "\"\"\""
   ]
  },
  {
   "cell_type": "markdown",
   "metadata": {},
   "source": [
    "## Question 2"
   ]
  },
  {
   "cell_type": "markdown",
   "metadata": {},
   "source": [
    "#### Write a function to replace all spaces in a string with '--' using an array \n",
    "Make sure that your function O(n) runtime complexity and do not use built-in replace() function.\n",
    "\n",
    "<b>Example input</b>: \"Mr John Smith, 13\" <br>\n",
    "<b>Example output</b>: \"Mr--John--Smith\" <br>\n",
    "\n",
    "You may assume that the array has sufficient space at the end to hold the additional characters, and you are given the true length of the string with the input. Here \"13\" represents the actual length of the string."
   ]
  },
  {
   "cell_type": "code",
   "execution_count": null,
   "metadata": {},
   "outputs": [],
   "source": [
    "def space_remover(input_string):\n",
    "    output_arr = []\n",
    "    for char in input_string:\n",
    "        if char == ' ':\n",
    "            output_arr.append('--')\n",
    "        else:\n",
    "            output_arr.append(char)\n",
    "    return ''.join(output_arr)"
   ]
  },
  {
   "cell_type": "code",
   "execution_count": null,
   "metadata": {},
   "outputs": [],
   "source": [
    "#test your solution here\n",
    "input_str1 = 'Mr John Smith, 13'\n",
    "print(space_remover(input_str1)) # expected solution is 'Mr--John--Smith'\n",
    "input_str2 = 'Woow Data Science, 17'\n",
    "print(space_remover(input_str2)) # expected solution is 'Woow--Data--Science'"
   ]
  },
  {
   "cell_type": "markdown",
   "metadata": {},
   "source": [
    "## Question 3"
   ]
  },
  {
   "cell_type": "markdown",
   "metadata": {},
   "source": [
    "#### Using regular expression do following operations on **lorem_ipsum_text**:\n",
    "1. Delete all characters if they are not letters (A-z) and spaces \n",
    "2. Find the count of all occurrence of the words that ends with 'us' but not 'llus'\n",
    "3. Replace all 'ae' with 'æ', (*Don't forget 'Aenean => Ænean'*)\n",
    "3. Replace all the vowels following by 'll' if the word does not end with that vowel as:\n",
    "    - a => @ (ex: nullam => null@m, but nulla => nulla)\n",
    "    - e => 3\n",
    "    - i => %\n",
    "    - o => 0\n",
    "    - u => &\n",
    "\n",
    "Print the results"
   ]
  },
  {
   "cell_type": "code",
   "execution_count": 15,
   "metadata": {},
   "outputs": [],
   "source": [
    "import re\n",
    "\n",
    "lorem_ipsum_text = \"\"\"Lorem ipsum dolor sit amet, consectetur adipiscing elit. Ut sed rhoncus sem, et sagittis tellus. Donec hendrerit sapien ac purus pretium tincidunt. Orci varius natoque penatibus et magnis dis parturient montes, nascetur ridiculus mus. Pellentesque aliquet, lectus eget finibus aliquet, tortor quam semper justo, sed venenatis nunc lectus a arcu. Vivamus egestas rhoncus dolor, vitae sollicitudin urna. Integer eleifend purus eget porta sagittis. Phasellus malesuada ex nibh, a lobortis tellus tempor hendrerit. Integer tincidunt ante et varius semper. Maecenas quis finibus lacus.\n",
    "Sed luctus varius nisi, ac pulvinar erat gravida sit amet. Mauris gravida scelerisque nisi vel sollicitudin. In porta diam nec lorem bibendum semper. Cras ut imperdiet sem, vel bibendum risus. Nulla suscipit enim et efficitur interdum. Mauris consectetur porttitor ipsum. Praesent a tortor quis arcu porttitor ullamcorper ac et diam. Pellentesque rhoncus ultrices facilisis. Pellentesque lectus quam, vestibulum in erat non, venenatis vehicula augue. Praesent at viverra est. Integer libero neque, commodo ut ipsum ac, vulputate pharetra libero. Pellentesque in rhoncus magna. In hac habitasse platea dictumst.\n",
    "Praesent ultrices vel elit vel auctor. Nulla vitae ligula in elit mattis aliquam. Quisque vitae finibus enim. Praesent id maximus mauris. Nunc in pulvinar ligula. Donec condimentum condimentum ipsum aliquet volutpat. Maecenas non porta nunc. Donec risus nulla, pharetra in rhoncus sit amet, efficitur quis urna.\n",
    "Praesent diam ante, ultrices eget libero sit amet, semper auctor metus. Aliquam sit amet vulputate nibh. Suspendisse potenti. Duis dui ligula, consectetur egestas nibh nec, ullamcorper iaculis turpis. Ut volutpat lacus in leo porta, a lobortis diam placerat. Aenean iaculis, leo at semper fringilla, lectus magna rutrum neque, sollicitudin accumsan est felis at purus. Phasellus et scelerisque libero, ac malesuada nulla. Pellentesque maximus eget erat ac consequat. Ut elementum sapien sed leo aliquam, at ultrices elit venenatis. Duis accumsan finibus imperdiet. Vestibulum ante ipsum primis in faucibus orci luctus et ultrices posuere cubilia curae;\n",
    "Nulla augue nunc, pharetra quis tellus sed, egestas luctus mi. Fusce hendrerit sagittis urna eleifend varius. Vestibulum velit magna, aliquam nec tincidunt hendrerit, aliquam non ex. Maecenas ut sem imperdiet, semper metus et, gravida quam. Mauris placerat sed erat sed dapibus. Aliquam a suscipit elit. Fusce non dolor justo. Suspendisse dictum posuere faucibus. Proin pretium ipsum vitae orci sagittis placerat. Nulla hendrerit erat sit amet nunc tristique, quis lacinia enim lobortis. Aenean in pretium augue. Proin posuere purus at nulla ultrices molestie. Morbi et pharetra justo. In vel arcu elit. Nullam at est id odio bibendum iaculis nec dapibus velit.\n",
    "\"\"\""
   ]
  },
  {
   "cell_type": "code",
   "execution_count": 16,
   "metadata": {},
   "outputs": [
    {
     "name": "stdout",
     "output_type": "stream",
     "text": [
      "Lorem ipsum dolor sit amet consectetur adipiscing elit Ut sed rhoncus sem et sagittis tellus Donec hendrerit sapien ac purus pretium tincidunt Orci varius natoque penatibus et magnis dis parturient montes nascetur ridiculus mus Pellentesque aliquet lectus eget finibus aliquet tortor quam semper justo sed venenatis nunc lectus a arcu Vivamus egestas rhoncus dolor vitae sollicitudin urna Integer eleifend purus eget porta sagittis Phasellus malesuada ex nibh a lobortis tellus tempor hendrerit Integer tincidunt ante et varius semper Maecenas quis finibus lacus\n",
      "Sed luctus varius nisi ac pulvinar erat gravida sit amet Mauris gravida scelerisque nisi vel sollicitudin In porta diam nec lorem bibendum semper Cras ut imperdiet sem vel bibendum risus Nulla suscipit enim et efficitur interdum Mauris consectetur porttitor ipsum Praesent a tortor quis arcu porttitor ullamcorper ac et diam Pellentesque rhoncus ultrices facilisis Pellentesque lectus quam vestibulum in erat non venenatis vehicula augue Praesent at viverra est Integer libero neque commodo ut ipsum ac vulputate pharetra libero Pellentesque in rhoncus magna In hac habitasse platea dictumst\n",
      "Praesent ultrices vel elit vel auctor Nulla vitae ligula in elit mattis aliquam Quisque vitae finibus enim Praesent id maximus mauris Nunc in pulvinar ligula Donec condimentum condimentum ipsum aliquet volutpat Maecenas non porta nunc Donec risus nulla pharetra in rhoncus sit amet efficitur quis urna\n",
      "Praesent diam ante ultrices eget libero sit amet semper auctor metus Aliquam sit amet vulputate nibh Suspendisse potenti Duis dui ligula consectetur egestas nibh nec ullamcorper iaculis turpis Ut volutpat lacus in leo porta a lobortis diam placerat Aenean iaculis leo at semper fringilla lectus magna rutrum neque sollicitudin accumsan est felis at purus Phasellus et scelerisque libero ac malesuada nulla Pellentesque maximus eget erat ac consequat Ut elementum sapien sed leo aliquam at ultrices elit venenatis Duis accumsan finibus imperdiet Vestibulum ante ipsum primis in faucibus orci luctus et ultrices posuere cubilia curae\n",
      "Nulla augue nunc pharetra quis tellus sed egestas luctus mi Fusce hendrerit sagittis urna eleifend varius Vestibulum velit magna aliquam nec tincidunt hendrerit aliquam non ex Maecenas ut sem imperdiet semper metus et gravida quam Mauris placerat sed erat sed dapibus Aliquam a suscipit elit Fusce non dolor justo Suspendisse dictum posuere faucibus Proin pretium ipsum vitae orci sagittis placerat Nulla hendrerit erat sit amet nunc tristique quis lacinia enim lobortis Aenean in pretium augue Proin posuere purus at nulla ultrices molestie Morbi et pharetra justo In vel arcu elit Nullam at est id odio bibendum iaculis nec dapibus velit\n",
      "\n"
     ]
    }
   ],
   "source": [
    "#Delete all characters if they are not letters (A-z) and spaces\n",
    "pattern = r'[^A-Za-z\\s]'\n",
    "output_string = re.sub(pattern, '', lorem_ipsum_text)\n",
    "print(output_string)"
   ]
  },
  {
   "cell_type": "code",
   "execution_count": 4,
   "metadata": {},
   "outputs": [
    {
     "name": "stdout",
     "output_type": "stream",
     "text": [
      "45\n"
     ]
    }
   ],
   "source": [
    "#Find the count of all occurrence of the words that ends with 'us' but not 'llus'\n",
    "pattern = r'\\b(?!llus)\\w+us\\b'\n",
    "matches = re.findall(pattern, lorem_ipsum_text)\n",
    "print(len(matches))"
   ]
  },
  {
   "cell_type": "code",
   "execution_count": 5,
   "metadata": {},
   "outputs": [
    {
     "name": "stdout",
     "output_type": "stream",
     "text": [
      "Lorem ipsum dolor sit amet, consectetur adipiscing elit. Ut sed rhoncus sem, et sagittis tellus. Donec hendrerit sapien ac purus pretium tincidunt. Orci varius natoque penatibus et magnis dis parturient montes, nascetur ridiculus mus. Pellentesque aliquet, lectus eget finibus aliquet, tortor quam semper justo, sed venenatis nunc lectus a arcu. Vivamus egestas rhoncus dolor, vitæ sollicitudin urna. Integer eleifend purus eget porta sagittis. Phasellus malesuada ex nibh, a lobortis tellus tempor hendrerit. Integer tincidunt ante et varius semper. Mæcenas quis finibus lacus.\n",
      "Sed luctus varius nisi, ac pulvinar erat gravida sit amet. Mauris gravida scelerisque nisi vel sollicitudin. In porta diam nec lorem bibendum semper. Cras ut imperdiet sem, vel bibendum risus. Nulla suscipit enim et efficitur interdum. Mauris consectetur porttitor ipsum. Præsent a tortor quis arcu porttitor ullamcorper ac et diam. Pellentesque rhoncus ultrices facilisis. Pellentesque lectus quam, vestibulum in erat non, venenatis vehicula augue. Præsent at viverra est. Integer libero neque, commodo ut ipsum ac, vulputate pharetra libero. Pellentesque in rhoncus magna. In hac habitasse platea dictumst.\n",
      "Præsent ultrices vel elit vel auctor. Nulla vitæ ligula in elit mattis aliquam. Quisque vitæ finibus enim. Præsent id maximus mauris. Nunc in pulvinar ligula. Donec condimentum condimentum ipsum aliquet volutpat. Mæcenas non porta nunc. Donec risus nulla, pharetra in rhoncus sit amet, efficitur quis urna.\n",
      "Præsent diam ante, ultrices eget libero sit amet, semper auctor metus. Aliquam sit amet vulputate nibh. Suspendisse potenti. Duis dui ligula, consectetur egestas nibh nec, ullamcorper iaculis turpis. Ut volutpat lacus in leo porta, a lobortis diam placerat. Ænean iaculis, leo at semper fringilla, lectus magna rutrum neque, sollicitudin accumsan est felis at purus. Phasellus et scelerisque libero, ac malesuada nulla. Pellentesque maximus eget erat ac consequat. Ut elementum sapien sed leo aliquam, at ultrices elit venenatis. Duis accumsan finibus imperdiet. Vestibulum ante ipsum primis in faucibus orci luctus et ultrices posuere cubilia curæ;\n",
      "Nulla augue nunc, pharetra quis tellus sed, egestas luctus mi. Fusce hendrerit sagittis urna eleifend varius. Vestibulum velit magna, aliquam nec tincidunt hendrerit, aliquam non ex. Mæcenas ut sem imperdiet, semper metus et, gravida quam. Mauris placerat sed erat sed dapibus. Aliquam a suscipit elit. Fusce non dolor justo. Suspendisse dictum posuere faucibus. Proin pretium ipsum vitæ orci sagittis placerat. Nulla hendrerit erat sit amet nunc tristique, quis lacinia enim lobortis. Ænean in pretium augue. Proin posuere purus at nulla ultrices molestie. Morbi et pharetra justo. In vel arcu elit. Nullam at est id odio bibendum iaculis nec dapibus velit.\n",
      "\n"
     ]
    }
   ],
   "source": [
    "# Replace all 'ae' with 'æ', (Don't forget 'Aenean => Ænean')\n",
    "output_string = lorem_ipsum_text.replace('ae', 'æ').replace('Ae', 'Æ')\n",
    "print(output_string)\n"
   ]
  },
  {
   "cell_type": "code",
   "execution_count": 17,
   "metadata": {},
   "outputs": [
    {
     "data": {
      "text/plain": [
       "'L0r3m %ps&m d0l0r s%t @m3t, c0ns3ct3t&r @d%p%sc%ng 3l%t. Ut s3d rh0nc&s s3m, 3t s@g%tt%s t3ll&s. D0n3c h3ndr3r%t s@p%3n @c p&r&s pr3t%&m t%nc%d&nt. Orc% v@r%&s n@t0q&3 p3n@t%b&s 3t m@gn%s d%s p@rt&r%3nt m0nt3s, n@sc3t&r r%d%c&l&s m&s. P3ll3nt3sq&3 @l%q&3t, l3ct&s 3g3t f%n%b&s @l%q&3t, t0rt0r q&@m s3mp3r j&st0, s3d v3n3n@t%s n&nc l3ct&s @ @rc&. V%v@m&s 3g3st@s rh0nc&s d0l0r, v%t@3 s0ll%c%t&d%n &rn@. Int3g3r 3l3%f3nd p&r&s 3g3t p0rt@ s@g%tt%s. Ph@s3ll&s m@l3s&@d@ 3x n%bh, @ l0b0rt%s t3ll&s t3mp0r h3ndr3r%t. Int3g3r t%nc%d&nt @nt3 3t v@r%&s s3mp3r. M@3c3n@s q&%s f%n%b&s l@c&s.\\nS3d l&ct&s v@r%&s n%s%, @c p&lv%n@r 3r@t gr@v%d@ s%t @m3t. M@&r%s gr@v%d@ sc3l3r%sq&3 n%s% v3l s0ll%c%t&d%n. In p0rt@ d%@m n3c l0r3m b%b3nd&m s3mp3r. Cr@s &t %mp3rd%3t s3m, v3l b%b3nd&m r%s&s. N&ll@ s&sc%p%t 3n%m 3t 3ff%c%t&r %nt3rd&m. M@&r%s c0ns3ct3t&r p0rtt%t0r %ps&m. Pr@3s3nt @ t0rt0r q&%s @rc& p0rtt%t0r &ll@mc0rp3r @c 3t d%@m. P3ll3nt3sq&3 rh0nc&s &ltr%c3s f@c%l%s%s. P3ll3nt3sq&3 l3ct&s q&@m, v3st%b&l&m %n 3r@t n0n, v3n3n@t%s v3h%c&l@ @&g&3. Pr@3s3nt @t v%v3rr@ 3st. Int3g3r l%b3r0 n3q&3, c0mm0d0 &t %ps&m @c, v&lp&t@t3 ph@r3tr@ l%b3r0. P3ll3nt3sq&3 %n rh0nc&s m@gn@. In h@c h@b%t@ss3 pl@t3@ d%ct&mst.\\nPr@3s3nt &ltr%c3s v3l 3l%t v3l @&ct0r. N&ll@ v%t@3 l%g&l@ %n 3l%t m@tt%s @l%q&@m. Q&%sq&3 v%t@3 f%n%b&s 3n%m. Pr@3s3nt %d m@x%m&s m@&r%s. N&nc %n p&lv%n@r l%g&l@. D0n3c c0nd%m3nt&m c0nd%m3nt&m %ps&m @l%q&3t v0l&tp@t. M@3c3n@s n0n p0rt@ n&nc. D0n3c r%s&s n&ll@, ph@r3tr@ %n rh0nc&s s%t @m3t, 3ff%c%t&r q&%s &rn@.\\nPr@3s3nt d%@m @nt3, &ltr%c3s 3g3t l%b3r0 s%t @m3t, s3mp3r @&ct0r m3t&s. Al%q&@m s%t @m3t v&lp&t@t3 n%bh. S&sp3nd%ss3 p0t3nt%. D&%s d&% l%g&l@, c0ns3ct3t&r 3g3st@s n%bh n3c, &ll@mc0rp3r %@c&l%s t&rp%s. Ut v0l&tp@t l@c&s %n l30 p0rt@, @ l0b0rt%s d%@m pl@c3r@t. A3n3@n %@c&l%s, l30 @t s3mp3r fr%ng%ll@, l3ct&s m@gn@ r&tr&m n3q&3, s0ll%c%t&d%n @cc&ms@n 3st f3l%s @t p&r&s. Ph@s3ll&s 3t sc3l3r%sq&3 l%b3r0, @c m@l3s&@d@ n&ll@. P3ll3nt3sq&3 m@x%m&s 3g3t 3r@t @c c0ns3q&@t. Ut 3l3m3nt&m s@p%3n s3d l30 @l%q&@m, @t &ltr%c3s 3l%t v3n3n@t%s. D&%s @cc&ms@n f%n%b&s %mp3rd%3t. V3st%b&l&m @nt3 %ps&m pr%m%s %n f@&c%b&s 0rc% l&ct&s 3t &ltr%c3s p0s&3r3 c&b%l%@ c&r@3;\\nN&ll@ @&g&3 n&nc, ph@r3tr@ q&%s t3ll&s s3d, 3g3st@s l&ct&s m%. F&sc3 h3ndr3r%t s@g%tt%s &rn@ 3l3%f3nd v@r%&s. V3st%b&l&m v3l%t m@gn@, @l%q&@m n3c t%nc%d&nt h3ndr3r%t, @l%q&@m n0n 3x. M@3c3n@s &t s3m %mp3rd%3t, s3mp3r m3t&s 3t, gr@v%d@ q&@m. M@&r%s pl@c3r@t s3d 3r@t s3d d@p%b&s. Al%q&@m @ s&sc%p%t 3l%t. F&sc3 n0n d0l0r j&st0. S&sp3nd%ss3 d%ct&m p0s&3r3 f@&c%b&s. Pr0%n pr3t%&m %ps&m v%t@3 0rc% s@g%tt%s pl@c3r@t. N&ll@ h3ndr3r%t 3r@t s%t @m3t n&nc tr%st%q&3, q&%s l@c%n%@ 3n%m l0b0rt%s. A3n3@n %n pr3t%&m @&g&3. Pr0%n p0s&3r3 p&r&s @t n&ll@ &ltr%c3s m0l3st%3. M0rb% 3t ph@r3tr@ j&st0. In v3l @rc& 3l%t. N&ll@m @t 3st %d 0d%0 b%b3nd&m %@c&l%s n3c d@p%b&s v3l%t.\\nllllllllll'"
      ]
     },
     "execution_count": 17,
     "metadata": {},
     "output_type": "execute_result"
    }
   ],
   "source": [
    "def replace_vowels(word):\n",
    "    vowels = \"aeiou\"\n",
    "    for v in vowels:\n",
    "        if word.endswith(v) and not word.endswith(v+\"ll\"):\n",
    "            continue\n",
    "        word = word.replace(v, \"@\" if v==\"a\" else \"3\" if v==\"e\" else \"%\" if v==\"i\" else \"0\" if v==\"o\" else \"&\") + \"ll\"\n",
    "    return word\n",
    "replace_vowels(lorem_ipsum_text)"
   ]
  },
  {
   "cell_type": "markdown",
   "metadata": {},
   "source": [
    "## Question 4"
   ]
  },
  {
   "cell_type": "markdown",
   "metadata": {},
   "source": [
    "You should write your code in **SQL programming language**. Don't forgot that you can not run your code in this notebook."
   ]
  },
  {
   "cell_type": "markdown",
   "metadata": {},
   "source": [
    "Consider the \"Employee\" table below:"
   ]
  },
  {
   "cell_type": "markdown",
   "metadata": {},
   "source": [
    "| Emp_Id  | Emp_name  | Salary  | Manager_Id  |\n",
    "|---|---|---|---|\n",
    "| 10 | Anil  | 50000  |  18 |\n",
    "| 11 | Vikas  | 75000  |   16 |\n",
    "| 12 | Nisha | 40000 |  18 |\n",
    "| 13 | Nidhi  | 60000 | 17  |\n",
    "| 14 | Priya  | 80000 |  18 |\n",
    "| 15 | Mohit |  45000 |  18 |\n",
    "| 16 | Rajesh  | 90000 | -  |\n",
    "| 17 | Raman  | 55000 | 16  |\n",
    "| 18 | Santosh  | 65000 |  17 |"
   ]
  },
  {
   "cell_type": "markdown",
   "metadata": {},
   "source": [
    "Write a query to generate below output:"
   ]
  },
  {
   "cell_type": "markdown",
   "metadata": {},
   "source": [
    "| Manager_Id  | Manager  | Average_Salary_Under_Manager  |\n",
    "|---|---|---|\n",
    "| 16 | Rajesh  | 65000  |\n",
    "| 17 | Raman  | 62500  |\n",
    "| 18 | Santosh | 53750 |"
   ]
  },
  {
   "cell_type": "code",
   "execution_count": null,
   "metadata": {},
   "outputs": [],
   "source": [
    "#Write your SQL Code here.\n",
    "SELECT e.Manager_Id, m.Emp_name AS Manager, AVG(e.Salary) AS Average_Salary_Under_Manager\n",
    "FROM Employee e \n",
    "JOIN Employee m \n",
    "ON e.Manager_Id = m.Emp_id \n",
    "GROUP BY e.Manager_Id, m.Emp_name;"
   ]
  }
 ],
 "metadata": {
  "environment": {
   "name": "tf2-gpu.2-1.m46",
   "type": "gcloud",
   "uri": "gcr.io/deeplearning-platform-release/tf2-gpu.2-1:m46"
  },
  "kernelspec": {
   "display_name": "Python 3 (ipykernel)",
   "language": "python",
   "name": "python3"
  },
  "language_info": {
   "codemirror_mode": {
    "name": "ipython",
    "version": 3
   },
   "file_extension": ".py",
   "mimetype": "text/x-python",
   "name": "python",
   "nbconvert_exporter": "python",
   "pygments_lexer": "ipython3",
   "version": "3.10.9"
  }
 },
 "nbformat": 4,
 "nbformat_minor": 4
}
